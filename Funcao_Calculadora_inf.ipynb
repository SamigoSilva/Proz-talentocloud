{
  "nbformat": 4,
  "nbformat_minor": 0,
  "metadata": {
    "colab": {
      "provenance": [],
      "authorship_tag": "ABX9TyNrw448M88LuuBmAOwQiRl/",
      "include_colab_link": true
    },
    "kernelspec": {
      "name": "python3",
      "display_name": "Python 3"
    },
    "language_info": {
      "name": "python"
    }
  },
  "cells": [
    {
      "cell_type": "markdown",
      "metadata": {
        "id": "view-in-github",
        "colab_type": "text"
      },
      "source": [
        "<a href=\"https://colab.research.google.com/github/SamigoSilva/Proz-talentocloud/blob/main/Funcao_Calculadora_inf.ipynb\" target=\"_parent\"><img src=\"https://colab.research.google.com/assets/colab-badge.svg\" alt=\"Open In Colab\"/></a>"
      ]
    },
    {
      "cell_type": "code",
      "execution_count": 14,
      "metadata": {
        "colab": {
          "base_uri": "https://localhost:8080/"
        },
        "id": "c7wXZ6xjGL2D",
        "outputId": "99890f37-98c2-41df-cbf0-70297d9ad6f1"
      },
      "outputs": [
        {
          "output_type": "stream",
          "name": "stdout",
          "text": [
            "Digite o número da operação (1: Soma, 2: Subtração, 3: Multiplicação, 4: Divisão, 0: Sair): 9\n",
            "Essa opção não existe\n",
            "Digite o número da operação (1: Soma, 2: Subtração, 3: Multiplicação, 4: Divisão, 0: Sair): 0\n",
            "Saindo...\n"
          ]
        }
      ],
      "source": [
        "import time\n",
        "\n",
        "def calculadora(num1, num2, operacao):\n",
        "    match operacao:\n",
        "      case 1:\n",
        "        return num1 + num2\n",
        "      case 2:\n",
        "        return num1 - num2\n",
        "      case 3:\n",
        "        return num1 * num2\n",
        "      case 4:\n",
        "        if num2 != 0:\n",
        "            return num1 / num2\n",
        "        else:\n",
        "            return \"Erro: não há divisão por zero\"\n",
        "\n",
        "if __name__ == '__main__':\n",
        "  while True:\n",
        "  # Capturar operação\n",
        "      operacao = int(input(\"Digite o número da operação (1: Soma, 2: Subtração, 3: Multiplicação, 4: Divisão, 0: Sair): \"))\n",
        "\n",
        "      if operacao == 0:\n",
        "        print(\"Saindo...\")\n",
        "        time.sleep(2)\n",
        "        break\n",
        "      elif operacao > 4:\n",
        "        print(\"Essa opção não existe\")\n",
        "        time.sleep(2)\n",
        "        continue\n",
        "      else:\n",
        "    # Capturar os números\n",
        "        numero1 = float(input(\"Digite o primeiro número: \"))\n",
        "        numero2 = float(input(\"Digite o segundo número: \"))\n",
        "\n",
        "      # Chamar a função e exibir o resultado\n",
        "        resultado = calculadora(numero1, numero2, operacao)\n",
        "        print(\"Resultado:\", resultado)"
      ]
    }
  ]
}