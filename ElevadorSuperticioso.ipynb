{
  "nbformat": 4,
  "nbformat_minor": 0,
  "metadata": {
    "colab": {
      "provenance": [],
      "authorship_tag": "ABX9TyOMn/QKkx54ugB4dAa7DB9a",
      "include_colab_link": true
    },
    "kernelspec": {
      "name": "python3",
      "display_name": "Python 3"
    },
    "language_info": {
      "name": "python"
    }
  },
  "cells": [
    {
      "cell_type": "markdown",
      "metadata": {
        "id": "view-in-github",
        "colab_type": "text"
      },
      "source": [
        "<a href=\"https://colab.research.google.com/github/SamigoSilva/Proz-talentocloud/blob/main/ElevadorSuperticioso.ipynb\" target=\"_parent\"><img src=\"https://colab.research.google.com/assets/colab-badge.svg\" alt=\"Open In Colab\"/></a>"
      ]
    },
    {
      "cell_type": "code",
      "execution_count": null,
      "metadata": {
        "colab": {
          "base_uri": "https://localhost:8080/"
        },
        "id": "YfE_SCBKpZ-i",
        "outputId": "409864ad-aff9-4f14-c78f-cc7823942728"
      },
      "outputs": [
        {
          "output_type": "stream",
          "name": "stdout",
          "text": [
            "Andar... 20\n",
            "Andar... 19\n",
            "Andar... 18\n",
            "Andar... 17\n",
            "Andar... 16\n",
            "Andar... 15\n",
            "Andar... 14\n",
            "Andar... 12\n",
            "Andar... 11\n",
            "Andar... 10\n",
            "Andar... 9\n",
            "Andar... 8\n",
            "Andar... 7\n",
            "Andar... 6\n",
            "Andar... 5\n",
            "Andar... 4\n",
            "Andar... 3\n",
            "Andar... 2\n",
            "Andar... 1\n"
          ]
        }
      ],
      "source": [
        "\n",
        "for andar in range(20, 0, -1):\n",
        "    if andar == 13:\n",
        "        continue\n",
        "    print(\"Andar...\", andar)"
      ]
    },
    {
      "cell_type": "code",
      "source": [
        "andar1 = 20\n",
        "while andar1 > 0:\n",
        "    if andar1 != 13:\n",
        "        print(\"Estamos no andar...\", andar1)\n",
        "    andar1 -= 1"
      ],
      "metadata": {
        "colab": {
          "base_uri": "https://localhost:8080/"
        },
        "id": "lCQ0oWcyqaBb",
        "outputId": "03890668-17e2-417d-a99d-73759d0cbbcd"
      },
      "execution_count": null,
      "outputs": [
        {
          "output_type": "stream",
          "name": "stdout",
          "text": [
            "Estamos no andar... 20\n",
            "Estamos no andar... 19\n",
            "Estamos no andar... 18\n",
            "Estamos no andar... 17\n",
            "Estamos no andar... 16\n",
            "Estamos no andar... 15\n",
            "Estamos no andar... 14\n",
            "Estamos no andar... 12\n",
            "Estamos no andar... 11\n",
            "Estamos no andar... 10\n",
            "Estamos no andar... 9\n",
            "Estamos no andar... 8\n",
            "Estamos no andar... 7\n",
            "Estamos no andar... 6\n",
            "Estamos no andar... 5\n",
            "Estamos no andar... 4\n",
            "Estamos no andar... 3\n",
            "Estamos no andar... 2\n",
            "Estamos no andar... 1\n"
          ]
        }
      ]
    }
  ]
}