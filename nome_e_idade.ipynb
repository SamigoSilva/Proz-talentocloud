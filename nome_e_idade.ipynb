{
  "nbformat": 4,
  "nbformat_minor": 0,
  "metadata": {
    "colab": {
      "provenance": [],
      "authorship_tag": "ABX9TyOQl6zc/DXjvn+5tBvZNmbk",
      "include_colab_link": true
    },
    "kernelspec": {
      "name": "python3",
      "display_name": "Python 3"
    },
    "language_info": {
      "name": "python"
    }
  },
  "cells": [
    {
      "cell_type": "markdown",
      "metadata": {
        "id": "view-in-github",
        "colab_type": "text"
      },
      "source": [
        "<a href=\"https://colab.research.google.com/github/SamigoSilva/Proz-talentocloud/blob/main/nome_e_idade.ipynb\" target=\"_parent\"><img src=\"https://colab.research.google.com/assets/colab-badge.svg\" alt=\"Open In Colab\"/></a>"
      ]
    },
    {
      "cell_type": "code",
      "execution_count": 3,
      "metadata": {
        "colab": {
          "base_uri": "https://localhost:8080/"
        },
        "id": "gDjIjtKPtYFu",
        "outputId": "46a7cdcc-18d0-413a-ba39-0f06d6935f35"
      },
      "outputs": [
        {
          "output_type": "stream",
          "name": "stdout",
          "text": [
            "informe seu nome completo: S\n",
            "informe seu ano de nascimento: 1989\n",
            "Seu nome é S e sua idade 33\n"
          ]
        }
      ],
      "source": [
        "repetir = True\n",
        "\n",
        "def calcula_idade (nascimento):\n",
        "    idade = 2022 - nascimento\n",
        "    return idade\n",
        "\n",
        "while(repetir):\n",
        "\n",
        "    try:\n",
        "        nome = str(input(\"informe o nome completo: \"))\n",
        "        nascimento = int(input(\"informe o ano de nascimento: \"))\n",
        "\n",
        "        if (nascimento < 1922 or nascimento > 2021):\n",
        "            raise Exception(\"Data de nascimento fora de intervalo!\")\n",
        "        else:\n",
        "            repetir = False\n",
        "\n",
        "            print(\"Seu nome é \" + str(nome) +\" e sua idade \" + str(calcula_idade(nascimento)))\n",
        "\n",
        "    except Exception as e:\n",
        "        print(\"Ocorreu um erro! Tente novamente... \", e)"
      ]
    }
  ]
}