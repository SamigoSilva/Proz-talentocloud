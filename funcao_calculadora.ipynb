{
  "nbformat": 4,
  "nbformat_minor": 0,
  "metadata": {
    "colab": {
      "provenance": [],
      "authorship_tag": "ABX9TyMqMvbi67rYnEfxRUpoZ6Vy",
      "include_colab_link": true
    },
    "kernelspec": {
      "name": "python3",
      "display_name": "Python 3"
    },
    "language_info": {
      "name": "python"
    }
  },
  "cells": [
    {
      "cell_type": "markdown",
      "metadata": {
        "id": "view-in-github",
        "colab_type": "text"
      },
      "source": [
        "<a href=\"https://colab.research.google.com/github/SamigoSilva/Proz-talentocloud/blob/main/funcao_calculadora.ipynb\" target=\"_parent\"><img src=\"https://colab.research.google.com/assets/colab-badge.svg\" alt=\"Open In Colab\"/></a>"
      ]
    },
    {
      "cell_type": "code",
      "execution_count": 16,
      "metadata": {
        "colab": {
          "base_uri": "https://localhost:8080/"
        },
        "id": "BJNGPyKeqsv3",
        "outputId": "2e2928a6-29a9-4ae4-cb2b-4f68d8c6e5f2"
      },
      "outputs": [
        {
          "output_type": "stream",
          "name": "stdout",
          "text": [
            "Digite o primeiro número: 1\n",
            "Digite o segundo número: 2\n",
            "Digite o número da operação (1 - Soma, 2 - Subtração, 3 - Multiplicação, 4 - Divisão): 2\n",
            "Resultado: -1.0\n"
          ]
        }
      ],
      "source": [
        "def calculadora(num1, num2, operacao):\n",
        "    match operacao:\n",
        "      case 1:\n",
        "        return num1 + num2\n",
        "      case 2:\n",
        "        return num1 - num2\n",
        "      case 3:\n",
        "        return num1 * num2\n",
        "      case 4:\n",
        "        if num2 != 0:\n",
        "            return num1 / num2\n",
        "        else:\n",
        "            return \"Erro: não há divisão por zero\"\n",
        "      case _:\n",
        "        return 0\n",
        "\n",
        "if __name__ == '__main__':\n",
        "\n",
        "# Capturar os números e a operação\n",
        "  numero1 = float(input(\"Digite o primeiro número: \"))\n",
        "  numero2 = float(input(\"Digite o segundo número: \"))\n",
        "  operacao = int(input(\"Digite o número da operação (1 - Soma, 2 - Subtração, 3 - Multiplicação, 4 - Divisão): \"))\n",
        "\n",
        "# Chamar a função e exibir o resultado\n",
        "  resultado = calculadora(numero1, numero2, operacao)\n",
        "  print(\"Resultado:\", resultado)"
      ]
    }
  ]
}